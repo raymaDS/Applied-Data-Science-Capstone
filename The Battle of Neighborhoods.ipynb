{
 "cells": [
  {
   "cell_type": "markdown",
   "metadata": {},
   "source": [
    "# The Battle of Neighborhoods"
   ]
  },
  {
   "cell_type": "markdown",
   "metadata": {},
   "source": [
    "## Table of contents"
   ]
  },
  {
   "cell_type": "markdown",
   "metadata": {},
   "source": [
    "    Introduction\n",
    "    Data Collection\n",
    "    Method\n",
    "    Results and Discussion\n",
    "    Conclusion"
   ]
  },
  {
   "cell_type": "markdown",
   "metadata": {},
   "source": [
    "### Introduction"
   ]
  },
  {
   "cell_type": "markdown",
   "metadata": {},
   "source": [
    "In this hypothetical scenario, a successful Chinese restaurant is looking to expand their business into a new city in the United States. \n",
    "This Szechuan restaurant was opened up in 2013 at a college town and sooner become one of most populor Chinese restaurant in town. Recently, the owners would like to expand the family business into Pittsburgh, Pennsylvania, another well-known college town nearby.\n",
    "\n",
    "Pittsburgh has an area of 58.3 square miles (151 km2) with around 300,000 residents. Also, Pittsburgh is home to University of Pittsburgh, Carnegie Mellon University, Chatham University, Carnegie Museum and Library, and many other educational, medical, and cultural institutions. \n",
    "\n",
    "Education is a major economic driver in the region. The largest single employer in education is the University of Pittsburgh, with 10,700 employees. Six Fortune 500 companies call the Pittsburgh area home. These include downtown's PNC Financial Services, PPG Industries, U.S. Steel, The Kraft Heinz Company, WESCO International, and the Findlay Township, Pennsylvania based Dick's Sporting Goods.\n",
    "\n",
    "The owners had conducted market research and is confident that the taste of their restaurant would be the dominator in town. However, not knowing the city well, the owners have difficulties to identify the best neighbourhood to open their business.\n",
    "\n",
    "Based on the family’s experiences with their restaurant, seeking out an area that already attracts diners who enjoy Chinese cuisine would be a good indicator for the location of the new restaurant."
   ]
  },
  {
   "cell_type": "markdown",
   "metadata": {},
   "source": [
    "### Import libraries"
   ]
  },
  {
   "cell_type": "code",
   "execution_count": 1,
   "metadata": {},
   "outputs": [
    {
     "name": "stdout",
     "output_type": "stream",
     "text": [
      "Libraries imported.\n"
     ]
    }
   ],
   "source": [
    "import numpy as np # library to handle data in a vectorized manner\n",
    "\n",
    "import pandas as pd # library for data analsysis\n",
    "pd.set_option('display.max_columns', None)\n",
    "pd.set_option('display.max_rows', None)\n",
    "\n",
    "import json # library to handle JSON files\n",
    "\n",
    "#!conda install -c conda-forge geopy --yes # uncomment this line if you haven't completed the Foursquare API lab\n",
    "from geopy.geocoders import Nominatim # convert an address into latitude and longitude values\n",
    "\n",
    "import requests # library to handle requests\n",
    "from pandas.io.json import json_normalize # tranform JSON file into a pandas dataframe\n",
    "\n",
    "# Matplotlib and associated plotting modules\n",
    "import matplotlib.cm as cm\n",
    "import matplotlib.colors as colors\n",
    "import matplotlib.pyplot as plt\n",
    "\n",
    "# import k-means from clustering stage\n",
    "from sklearn.cluster import KMeans\n",
    "from sklearn import metrics\n",
    "from scipy.spatial.distance import cdist\n",
    "from sklearn.metrics import silhouette_samples, silhouette_score\n",
    "\n",
    "# distance from 2 sets of latitude and longitude \n",
    "from math import sin, cos, sqrt, atan2, radians\n",
    "\n",
    "#!conda install -c conda-forge folium=0.5.0 --yes # uncomment this line if you haven't completed the Foursquare API lab\n",
    "import folium # map rendering library\n",
    "\n",
    "print('Libraries imported.')"
   ]
  },
  {
   "cell_type": "markdown",
   "metadata": {},
   "source": [
    "### Data Collection"
   ]
  },
  {
   "cell_type": "markdown",
   "metadata": {},
   "source": [
    "In order to answer this question, we need to collect data from several sources.\n",
    "\n",
    "1. Foursquare location data. \n",
    "   <br>Source: the Foursquare API\n",
    "<br>\n",
    "<br>\n",
    "2. Median Household incomes for Pittsburgh neighbourhoods. \n",
    "   <br>Source: [U.S. Census Bureau](http://data.census.gov)"
   ]
  },
  {
   "cell_type": "markdown",
   "metadata": {},
   "source": [
    "#### Data Preparation"
   ]
  },
  {
   "cell_type": "markdown",
   "metadata": {},
   "source": [
    "In order to utilize the Foursquare API the following information was needed:\n",
    "\n",
    "- A list of Pittsburgh neighbourhoods\n",
    "- The post codes of each neighbourhood\n",
    "- Latitude and longitude co-ordinates for each post code.\n",
    "\n",
    "This data was found at the following website: https://www.geonames.org/postalcode-search.html?q=Pittsburgh%2C+Pennsylvania&country=US"
   ]
  },
  {
   "cell_type": "markdown",
   "metadata": {},
   "source": [
    "The data was scrapped and then cleaned through a series of steps into a data frame of 4 features, Neighbourhood, Postcode, Latitude, and Longitude."
   ]
  },
  {
   "cell_type": "markdown",
   "metadata": {},
   "source": [
    "The Folium library was then used as a visual aid while examining the data, rendering maps of Auckland’s neighbourhoods. Later in the analysis folium was be used to show the different venue clusters that were identified using machine learning methods. Once the neighbourhood data was arranged into a workable data frame, The Foursquare API software identified:\n",
    "- The different types of venues (e.g., restaurants, parks) in each neighbourhood.\n",
    "- The popularity of each venue in each of these neighbourhoods.\n",
    "- The focus of our search will be on the \" Food \" category, specifically on Indian cuisine.\n",
    "\n",
    "The following steps show the data cleaning steps needed to present a data frame of the relevant information needed. This data frame should have 4 features \"PostCode\", \"Neighbourhood\", \"Latitude\", \"Longitude\"."
   ]
  },
  {
   "cell_type": "markdown",
   "metadata": {},
   "source": []
  },
  {
   "cell_type": "markdown",
   "metadata": {},
   "source": []
  }
 ],
 "metadata": {
  "kernelspec": {
   "display_name": "Python 3",
   "language": "python",
   "name": "python3"
  },
  "language_info": {
   "codemirror_mode": {
    "name": "ipython",
    "version": 3
   },
   "file_extension": ".py",
   "mimetype": "text/x-python",
   "name": "python",
   "nbconvert_exporter": "python",
   "pygments_lexer": "ipython3",
   "version": "3.7.4"
  }
 },
 "nbformat": 4,
 "nbformat_minor": 2
}
